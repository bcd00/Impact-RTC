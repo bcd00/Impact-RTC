{
 "cells": [
  {
   "cell_type": "code",
   "execution_count": null,
   "outputs": [],
   "source": [
    "%load_ext autoreload\n",
    "%autoreload 2"
   ],
   "metadata": {
    "collapsed": false,
    "pycharm": {
     "name": "#%%\n"
    }
   }
  },
  {
   "cell_type": "code",
   "execution_count": 1,
   "outputs": [],
   "source": [
    "import datetime\n",
    "import pandas as pd\n",
    "import plotly.express as px\n",
    "\n",
    "from ast import literal_eval\n",
    "from utilities.utils import shared_dir, display_dict, figures_dir, env_bool, plot_bihistogram\n",
    "from utilities.data_processing.processing_utils import get_geo, get_tweet_geo, get_all_geo, format_geojson_all_types, \\\n",
    "    get_user_location_tweets, handle_user_coords, format_geojson, get_tweet_place_tweets, get_lat_lon, \\\n",
    "    get_entity_locations_tweets, get_entity_coords, format_geojson_entities, get_location, stack_df, display_rules, \\\n",
    "    display_rules_text, display_overlaid_histogram, save_for_annotation, get_geo_df, to_geojson"
   ],
   "metadata": {
    "collapsed": false,
    "pycharm": {
     "name": "#%%\n"
    }
   }
  },
  {
   "cell_type": "code",
   "execution_count": null,
   "outputs": [],
   "source": [
    "pd.set_option('display.max_colwidth', None)"
   ],
   "metadata": {
    "collapsed": false,
    "pycharm": {
     "name": "#%%\n"
    }
   }
  },
  {
   "cell_type": "markdown",
   "source": [
    "### Load geospatial data\n",
    "\n",
    "Loads geospatial data from raw tweets."
   ],
   "metadata": {
    "collapsed": false,
    "pycharm": {
     "name": "#%% md\n"
    }
   }
  },
  {
   "cell_type": "code",
   "execution_count": null,
   "outputs": [],
   "source": [
    "geo_df = get_geo_df('tweets')\n",
    "print(f'Geospatial Dataset Size: {len(geo_df)}')\n",
    "print(f'Geospatial Dataset Columns: {geo_df.columns}')\n",
    "geo_df.head()"
   ],
   "metadata": {
    "collapsed": false,
    "pycharm": {
     "name": "#%%\n",
     "is_executing": true
    }
   }
  },
  {
   "cell_type": "markdown",
   "source": [
    "### Format data\n",
    "\n",
    "Basic data formatting."
   ],
   "metadata": {
    "collapsed": false,
    "pycharm": {
     "name": "#%% md\n"
    }
   }
  },
  {
   "cell_type": "code",
   "execution_count": null,
   "outputs": [],
   "source": [
    "geo_df.drop('key', axis=1, inplace=True)\n",
    "geo_df.drop('test', axis=1, inplace=True)\n",
    "geo_df.drop('entities_places', axis=1, inplace=True)\n",
    "geo_df.drop('place_id', axis=1, inplace=True)\n",
    "geo_df.drop('entities', axis=1, inplace=True)\n",
    "geo_df.drop('user_location', axis=1, inplace=True)\n",
    "geo_df.drop('author_id', axis=1, inplace=True)\n",
    "geo_df.drop('_id', axis=1, inplace=True)\n",
    "geo_df.rename(columns={'geo': 'tweet_location', 'place_data': 'tweet_place', 'value': 'user_location'}, inplace=True)\n",
    "geo_df.head()"
   ],
   "metadata": {
    "collapsed": false,
    "pycharm": {
     "name": "#%%\n",
     "is_executing": true
    }
   }
  },
  {
   "cell_type": "code",
   "execution_count": null,
   "outputs": [],
   "source": [
    "geo_df['user_location'] = geo_df['user_location'].fillna(value='{}')\n",
    "geo_df['user_location'] = geo_df['user_location'].astype(str)\n",
    "geo_df['user_location'] = geo_df['user_location'].apply(lambda x: {} if x == '' else literal_eval(x))\n",
    "geo_df['user_location'] = geo_df['user_location'].astype(object)\n",
    "\n",
    "geo_df['tweet_place'] = geo_df['tweet_place'].fillna(value='{}')\n",
    "geo_df['tweet_place'] = geo_df['tweet_place'].astype(str)\n",
    "geo_df['tweet_place'] = geo_df['tweet_place'].apply(lambda x: {} if x == '' else literal_eval(x))\n",
    "geo_df['tweet_place'] = geo_df['tweet_place'].astype(object)\n",
    "\n",
    "geo_df['tweet_location'] = geo_df['tweet_location'].fillna(value='{}')\n",
    "geo_df['tweet_location'] = geo_df['tweet_location'].astype(str)\n",
    "geo_df['tweet_location'] = geo_df['tweet_location'].apply(lambda x: {} if x == '' else literal_eval(x))\n",
    "geo_df['tweet_location'] = geo_df['tweet_location'].astype(object)\n",
    "\n",
    "print(f'Size of all geospatial data: {len(get_geo(geo_df))}')\n",
    "print(f'Size of tweet-specific data: {len(get_tweet_geo(geo_df))}')\n",
    "geo_df[((geo_df.tweet_place != {}) & (geo_df.tweet_location == {})) | (\n",
    "            (geo_df.tweet_place == {}) & (geo_df.tweet_location != {}))].head()"
   ],
   "metadata": {
    "collapsed": false,
    "pycharm": {
     "name": "#%%\n",
     "is_executing": true
    }
   }
  },
  {
   "cell_type": "markdown",
   "source": [
    "### Convert places to coordinates"
   ],
   "metadata": {
    "collapsed": false,
    "pycharm": {
     "name": "#%% md\n"
    }
   }
  },
  {
   "cell_type": "code",
   "execution_count": null,
   "outputs": [],
   "source": [
    "all_type_geo = get_all_geo(geo_df)\n",
    "\n",
    "data = format_geojson_all_types(all_type_geo)\n",
    "data = [x for x in data if x[0] is not None and None not in x[0]]\n",
    "to_geojson(data, 'all_locations', override=True)\n",
    "all_type_geo.head()"
   ],
   "metadata": {
    "collapsed": false,
    "pycharm": {
     "name": "#%%\n",
     "is_executing": true
    }
   }
  },
  {
   "cell_type": "code",
   "execution_count": null,
   "outputs": [],
   "source": [
    "geo = get_user_location_tweets(geo_df)\n",
    "display_dict(geo.iloc[0].user_location)\n",
    "geo['lat_lon'] = geo.user_location.progress_apply(handle_user_coords)\n",
    "geo_df['user_coords'] = geo_df['user_location'].progress_apply(lambda x: handle_user_coords(x) if x != {} else None)\n",
    "data = format_geojson(geo_df.sample(n=20), key='user_coords')\n",
    "data = [x for x in data if x[0] is not None and None not in x[0]]\n",
    "to_geojson(data, label='user_coords')\n",
    "geo[['lat_lon']].head()"
   ],
   "metadata": {
    "collapsed": false,
    "pycharm": {
     "name": "#%%\n",
     "is_executing": true
    }
   }
  },
  {
   "cell_type": "code",
   "execution_count": null,
   "outputs": [],
   "source": [
    "geo = get_tweet_place_tweets(geo_df)\n",
    "geo['tweet_place'] = geo['tweet_place'].progress_apply(get_lat_lon)\n",
    "geo_df['tweet_coords'] = geo_df['tweet_place'].progress_apply(get_lat_lon)\n",
    "data = format_geojson(geo_df.sample(n=200), key='tweet_coords')\n",
    "data = [x for x in data if x[0] is not None and None not in x[0]]\n",
    "to_geojson(data, label='tweet_locations')\n",
    "geo = geo[~geo['tweet_place'].isnull()]\n",
    "geo[geo['tweet_place'].map(len) != 0].head()"
   ],
   "metadata": {
    "collapsed": false,
    "pycharm": {
     "name": "#%%\n",
     "is_executing": true
    }
   }
  },
  {
   "cell_type": "code",
   "execution_count": null,
   "outputs": [],
   "source": [
    "geo = get_entity_locations_tweets(geo_df)\n",
    "geo['entity_coords'] = geo['entity_locations'].progress_apply(get_entity_coords)\n",
    "geo_df['entity_coords'] = geo_df['entity_locations'].progress_apply(get_entity_coords)\n",
    "data = format_geojson_entities(geo_df.sample(n=20))\n",
    "data = [x for x in data if x[0] is not None and None not in x[0]]\n",
    "to_geojson(data, label='entity_locations')\n",
    "geo.head()"
   ],
   "metadata": {
    "collapsed": false,
    "pycharm": {
     "name": "#%%\n",
     "is_executing": true
    }
   }
  },
  {
   "cell_type": "code",
   "execution_count": null,
   "outputs": [],
   "source": [
    "geo_df['location'] = geo_df.progress_apply(get_location, axis=1)\n",
    "\n",
    "print(f'Size of un-formatted geospatial data: {len(geo_df)}')\n",
    "geo_df = geo_df[~geo_df.location.isnull()].copy()\n",
    "print(f'Size of formatted geospatial data: {len(geo_df)}')\n",
    "\n",
    "geo_df['location_type'] = geo_df['location'].apply(lambda x: x['type'])\n",
    "geo_df['location'] = geo_df['location'].apply(lambda x: x['locations'])\n",
    "\n",
    "geo_df.drop(['tweet_location', 'user_data', 'tweet_place', 'user_location', 'entity_locations', 'user_coords', 'tweet_coords', 'entity_coords'], axis=1, inplace=True)\n",
    "\n",
    "geo_df[geo_df.location_type != 'user'].head()"
   ],
   "metadata": {
    "collapsed": false,
    "pycharm": {
     "name": "#%%\n",
     "is_executing": true
    }
   }
  },
  {
   "cell_type": "markdown",
   "source": [
    "### Stack for multiple possible locations"
   ],
   "metadata": {
    "collapsed": false,
    "pycharm": {
     "name": "#%% md\n"
    }
   }
  },
  {
   "cell_type": "code",
   "execution_count": null,
   "outputs": [],
   "source": [
    "geo_df, _ = stack_df(geo_df, 'location', drop=['location_old', 'level_1'], set_index='id')\n",
    "geo_df[geo_df.location_type != 'user'].head()"
   ],
   "metadata": {
    "collapsed": false,
    "pycharm": {
     "name": "#%%\n",
     "is_executing": true
    }
   }
  },
  {
   "cell_type": "markdown",
   "source": [
    "### Format tweet time into seconds since the year 2000"
   ],
   "metadata": {
    "collapsed": false,
    "pycharm": {
     "name": "#%% md\n"
    }
   }
  },
  {
   "cell_type": "code",
   "execution_count": null,
   "outputs": [],
   "source": [
    "geo_df['epoch'] = datetime.datetime.strptime('2000-01-01T00:00:00.000', '%Y-%m-%dT%H:%M:%S.%f').replace(tzinfo=datetime.timezone.utc)\n",
    "geo_df['created_at'] = pd.to_datetime(geo_df['created_at'], format='%Y-%m-%dT%H:%M:%S.%f')\n",
    "geo_df['diff'] = geo_df['created_at'] - geo_df['epoch']\n",
    "geo_df['time'] = geo_df['diff'].dt.total_seconds()\n",
    "geo_df.drop(['epoch', 'created_at', 'diff'], axis=1, inplace=True)\n",
    "geo_df.head()"
   ],
   "metadata": {
    "collapsed": false,
    "pycharm": {
     "name": "#%%\n",
     "is_executing": true
    }
   }
  },
  {
   "cell_type": "markdown",
   "source": [
    "### Graph locations by type"
   ],
   "metadata": {
    "collapsed": false,
    "pycharm": {
     "name": "#%% md\n"
    }
   }
  },
  {
   "cell_type": "code",
   "execution_count": null,
   "outputs": [],
   "source": [
    "fig = px.histogram(geo_df, x=\"location_type\")\n",
    "fig.write_html(f'{figures_dir}/data_processing/location_type.html')\n",
    "fig.write_json(f'{figures_dir}/data_processing/location_type.json')\n",
    "fig.show()"
   ],
   "metadata": {
    "collapsed": false,
    "pycharm": {
     "name": "#%%\n",
     "is_executing": true
    }
   }
  },
  {
   "cell_type": "markdown",
   "source": [
    "### Display comparison between raw tweets and geospatial tweets by rule distribution\n",
    "\n",
    "This is optional due to significant runtime"
   ],
   "metadata": {
    "collapsed": false,
    "pycharm": {
     "name": "#%% md\n"
    }
   }
  },
  {
   "cell_type": "code",
   "execution_count": 14,
   "outputs": [],
   "source": [
    "if env_bool('DISPLAY_RULES'):\n",
    "    tweets = pd.read_pickle(f'{shared_dir}/tweets.pickle')\n",
    "    colors = (px.colors.qualitative.D3[0], px.colors.qualitative.D3[4])\n",
    "    _, rules_df, rules_stack = display_rules(tweets.copy(), color=colors[0], filename='tweets')\n",
    "    display_rules_text(rules_df)\n",
    "    _, geo_rules_df, geo_stack = display_rules(geo_df.copy(), color=colors[1], filename='geospatial')\n",
    "    display_overlaid_histogram(tweets, geo_df, colors, (rules_stack, geo_stack))\n",
    "    plot_bihistogram(dfs=[rules_df, geo_rules_df], key='rule', labels=['RAW', 'GEO'], filename='rules_bihistogram')"
   ],
   "metadata": {
    "collapsed": false,
    "pycharm": {
     "name": "#%%\n"
    }
   }
  },
  {
   "cell_type": "markdown",
   "source": [
    "### Save tweets for annotation\n",
    "\n",
    "Optional"
   ],
   "metadata": {
    "collapsed": false,
    "pycharm": {
     "name": "#%% md\n"
    }
   }
  },
  {
   "cell_type": "code",
   "execution_count": 15,
   "outputs": [],
   "source": [
    "if env_bool('SAVE_FOR_ANNOTATION'):\n",
    "    save_for_annotation(geo_df)"
   ],
   "metadata": {
    "collapsed": false,
    "pycharm": {
     "name": "#%%\n"
    }
   }
  },
  {
   "cell_type": "markdown",
   "source": [
    "### Save to file for further use"
   ],
   "metadata": {
    "collapsed": false,
    "pycharm": {
     "name": "#%% md\n"
    }
   }
  },
  {
   "cell_type": "code",
   "execution_count": null,
   "outputs": [],
   "source": [
    "geo_df.to_pickle(f'{shared_dir}/geospatial.pickle')"
   ],
   "metadata": {
    "collapsed": false,
    "pycharm": {
     "name": "#%%\n"
    }
   }
  }
 ],
 "metadata": {
  "kernelspec": {
   "display_name": "Python 3",
   "language": "python",
   "name": "python3"
  },
  "language_info": {
   "codemirror_mode": {
    "name": "ipython",
    "version": 2
   },
   "file_extension": ".py",
   "mimetype": "text/x-python",
   "name": "python",
   "nbconvert_exporter": "python",
   "pygments_lexer": "ipython2",
   "version": "2.7.6"
  }
 },
 "nbformat": 4,
 "nbformat_minor": 0
}