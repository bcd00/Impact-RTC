{
 "cells": [
  {
   "cell_type": "code",
   "execution_count": 1,
   "metadata": {
    "collapsed": true,
    "pycharm": {
     "name": "#%%\n"
    }
   },
   "outputs": [],
   "source": [
    "%load_ext autoreload\n",
    "%autoreload 2"
   ]
  },
  {
   "cell_type": "code",
   "execution_count": null,
   "outputs": [],
   "source": [
    "!nvidia-smi"
   ],
   "metadata": {
    "collapsed": false,
    "pycharm": {
     "name": "#%%\n",
     "is_executing": true
    }
   }
  },
  {
   "cell_type": "code",
   "execution_count": 3,
   "outputs": [],
   "source": [
    "import logging\n",
    "import pandas as pd\n",
    "\n",
    "from tqdm.auto import tqdm\n",
    "from utilities.clustering.cluster_utils import cluster_kmeans, cluster_custom\n",
    "from utilities.clustering.cluster_model import ClusterModel, rand_index, adjusted_rand_index\n",
    "from utilities.utils import shared_dir, figures_dir, env_bool, read_json, write_json, get_cuda_availability, \\\n",
    "    kmeans_tuning_dir, custom_tuning_dir"
   ],
   "metadata": {
    "collapsed": false,
    "pycharm": {
     "name": "#%%\n"
    }
   }
  },
  {
   "cell_type": "code",
   "execution_count": 4,
   "outputs": [],
   "source": [
    "tqdm.pandas()\n",
    "pd.set_option('display.max_colwidth', None)\n",
    "\n",
    "logging.basicConfig(level=logging.CRITICAL)\n",
    "\n",
    "DEVICE = get_cuda_availability()"
   ],
   "metadata": {
    "collapsed": false,
    "pycharm": {
     "name": "#%%\n"
    }
   }
  },
  {
   "cell_type": "markdown",
   "source": [
    "### Load dataset for clustering"
   ],
   "metadata": {
    "collapsed": false,
    "pycharm": {
     "name": "#%% md\n"
    }
   }
  },
  {
   "cell_type": "code",
   "execution_count": null,
   "outputs": [],
   "source": [
    "cluster_df = pd.read_pickle(f'{shared_dir}/clusters.pickle')\n",
    "cluster_df.head()"
   ],
   "metadata": {
    "collapsed": false,
    "pycharm": {
     "name": "#%%\n",
     "is_executing": true
    }
   }
  },
  {
   "cell_type": "markdown",
   "source": [
    "### Build cluster model and print sample data"
   ],
   "metadata": {
    "collapsed": false,
    "pycharm": {
     "name": "#%% md\n"
    }
   }
  },
  {
   "cell_type": "code",
   "execution_count": null,
   "outputs": [],
   "source": [
    "time_limit = 9\n",
    "space_limit = 10\n",
    "n_clusters = 7000\n",
    "\n",
    "cluster_type = 'kmeans'\n",
    "cluster_model = ClusterModel(df=cluster_df, device=DEVICE)\n",
    "cluster_model.print_sample_data()"
   ],
   "metadata": {
    "collapsed": false,
    "pycharm": {
     "name": "#%%\n",
     "is_executing": true
    }
   }
  },
  {
   "cell_type": "markdown",
   "source": [
    "### Hyperparameter tuning\n",
    "\n",
    "This is optional due to significant runtime"
   ],
   "metadata": {
    "collapsed": false,
    "pycharm": {
     "name": "#%% md\n"
    }
   }
  },
  {
   "cell_type": "code",
   "execution_count": null,
   "outputs": [],
   "source": [
    "if env_bool('TUNE_CLUSTER'):\n",
    "    timezones = {}\n",
    "    ds_custom, timezones = cluster_custom(cluster_df, timezones, DEVICE)\n",
    "    ds_kmeans, timezones = cluster_kmeans(cluster_df, timezones, DEVICE)\n",
    "\n",
    "    write_json(ds_custom, f'{custom_tuning_dir}/clustering_distances.json')\n",
    "    write_json(ds_kmeans, f'{kmeans_tuning_dir}/clustering_distances.json')\n",
    "\n",
    "    cluster_model.distances = ds_custom\n",
    "    cluster_model.plot(cluster_type='custom')\n",
    "    cluster_model.distances = ds_kmeans\n",
    "    cluster_model.plot(cluster_type='kmeans')"
   ],
   "metadata": {
    "collapsed": false,
    "pycharm": {
     "name": "#%%\n",
     "is_executing": true
    }
   }
  },
  {
   "cell_type": "markdown",
   "source": [
    "### Fit cluster model"
   ],
   "metadata": {
    "collapsed": false,
    "pycharm": {
     "name": "#%% md\n"
    }
   }
  },
  {
   "cell_type": "code",
   "execution_count": null,
   "outputs": [],
   "source": [
    "match cluster_type:\n",
    "    case 'custom': cluster_model.fit(cluster_type, time_limit=time_limit, space_limit=space_limit)\n",
    "    case 'kmeans': cluster_model.fit(cluster_type, n_clusters)"
   ],
   "metadata": {
    "collapsed": false,
    "pycharm": {
     "name": "#%%\n"
    }
   }
  },
  {
   "cell_type": "markdown",
   "source": [
    "### Format and save clusters"
   ],
   "metadata": {
    "collapsed": false,
    "pycharm": {
     "name": "#%% md\n"
    }
   }
  },
  {
   "cell_type": "code",
   "execution_count": null,
   "outputs": [],
   "source": [
    "cluster_model.format_data()\n",
    "list(cluster_model.formatted_data.values())[0]"
   ],
   "metadata": {
    "collapsed": false,
    "pycharm": {
     "name": "#%%\n"
    }
   }
  },
  {
   "cell_type": "code",
   "execution_count": null,
   "outputs": [],
   "source": [
    "cluster_model.save(filename=f'{figures_dir}/clustering/{cluster_type}_clusters/{cluster_type}_clusters.html')\n",
    "cluster_model.display()"
   ],
   "metadata": {
    "collapsed": false,
    "pycharm": {
     "name": "#%%\n"
    }
   }
  },
  {
   "cell_type": "markdown",
   "source": [
    "### Calculate Rand Index and ARI for comparison between algorithms"
   ],
   "metadata": {
    "collapsed": false,
    "pycharm": {
     "name": "#%% md\n"
    }
   }
  },
  {
   "cell_type": "code",
   "execution_count": 38,
   "outputs": [],
   "source": [
    "data_kmeans = read_json(f'{shared_dir}/kmeans_clusters/labelled/{n_clusters}.json')\n",
    "data_custom = read_json(f'{shared_dir}/custom_clusters/labelled/{time_limit}_{space_limit}.json')\n",
    "\n",
    "ids_kmeans = [list(x['location'].keys()) for x in list(data_kmeans.values())]\n",
    "ids_custom = [list(x['location'].keys()) for x in list(data_custom.values())]\n",
    "\n",
    "rand_index([ids_kmeans, ids_custom])\n",
    "adjusted_rand_index([ids_kmeans, ids_custom])"
   ],
   "metadata": {
    "collapsed": false,
    "pycharm": {
     "name": "#%%\n"
    }
   }
  }
 ],
 "metadata": {
  "kernelspec": {
   "display_name": "Python 3",
   "language": "python",
   "name": "python3"
  },
  "language_info": {
   "codemirror_mode": {
    "name": "ipython",
    "version": 2
   },
   "file_extension": ".py",
   "mimetype": "text/x-python",
   "name": "python",
   "nbconvert_exporter": "python",
   "pygments_lexer": "ipython2",
   "version": "2.7.6"
  }
 },
 "nbformat": 4,
 "nbformat_minor": 0
}