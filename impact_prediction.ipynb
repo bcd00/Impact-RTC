{
 "cells": [
  {
   "cell_type": "code",
   "execution_count": 1,
   "outputs": [],
   "source": [
    "%load_ext autoreload\n",
    "%autoreload 2"
   ],
   "metadata": {
    "collapsed": false,
    "pycharm": {
     "name": "#%%\n"
    }
   }
  },
  {
   "cell_type": "code",
   "execution_count": null,
   "outputs": [],
   "source": [
    "!nvidia-smi"
   ],
   "metadata": {
    "collapsed": false,
    "pycharm": {
     "name": "#%%\n",
     "is_executing": true
    }
   }
  },
  {
   "cell_type": "code",
   "execution_count": 3,
   "outputs": [],
   "source": [
    "import math\n",
    "import logging\n",
    "import numpy as np\n",
    "import pandas as pd\n",
    "import plotly.express as px\n",
    "import statsmodels.api as sm\n",
    "\n",
    "from tqdm.auto import tqdm\n",
    "from statsmodels.formula.api import ols\n",
    "from IPython.core.display_functions import display\n",
    "from utilities.impact_prediction.arima import ArimaModel\n",
    "from utilities.impact_prediction.multilayer_nn_model import NNModel\n",
    "from utilities.impact_prediction.linear_regression_model import LRModel\n",
    "from utilities.utils import read_json, shared_dir, split_dataset, get_cuda_availability, \\\n",
    "    data_exploration_dir, arima_dir, figures_dir"
   ],
   "metadata": {
    "collapsed": false,
    "pycharm": {
     "name": "#%%\n"
    }
   }
  },
  {
   "cell_type": "code",
   "execution_count": 4,
   "outputs": [],
   "source": [
    "tqdm.pandas()\n",
    "pd.set_option('display.max_colwidth', None)\n",
    "\n",
    "logging.basicConfig(level=logging.CRITICAL)\n",
    "\n",
    "DEVICE = get_cuda_availability()"
   ],
   "metadata": {
    "collapsed": false,
    "pycharm": {
     "name": "#%%\n"
    }
   }
  },
  {
   "cell_type": "markdown",
   "source": [
    "### Load clusters and display samples"
   ],
   "metadata": {
    "collapsed": false,
    "pycharm": {
     "name": "#%% md\n"
    }
   }
  },
  {
   "cell_type": "code",
   "execution_count": 6,
   "outputs": [],
   "source": [
    "time_limit = 9\n",
    "space_limit = 10\n",
    "n_clusters = 10_000\n",
    "\n",
    "cluster_type = 'custom'\n",
    "params = [time_limit, space_limit]"
   ],
   "metadata": {
    "collapsed": false,
    "pycharm": {
     "name": "#%%\n"
    }
   }
  },
  {
   "cell_type": "code",
   "execution_count": null,
   "outputs": [],
   "source": [
    "param_file_key = '_'.join([str(x) for x in params])\n",
    "clusters = {k: pd.DataFrame(v) for k, v in read_json(filename=f'{shared_dir}/{cluster_type}_clusters/labelled/{param_file_key}.json').items()}\n",
    "\n",
    "print(f'Number of clusters: {len(clusters)}')\n",
    "for k, v in list(clusters.items())[:5]:\n",
    "    print(f'Key: {k}')\n",
    "    display(v.head())"
   ],
   "metadata": {
    "collapsed": false,
    "pycharm": {
     "name": "#%%\n",
     "is_executing": true
    }
   }
  },
  {
   "cell_type": "code",
   "execution_count": null,
   "outputs": [],
   "source": [
    "filename = f'{shared_dir}/{cluster_type}_clusters/formatted/{param_file_key}.json'\n",
    "formatted_clusters = pd.DataFrame(list(read_json(filename=filename).values()))\n",
    "formatted_clusters.head()"
   ],
   "metadata": {
    "collapsed": false,
    "pycharm": {
     "name": "#%%\n",
     "is_executing": true
    }
   }
  },
  {
   "cell_type": "markdown",
   "source": [
    "### Graph cluster feature distributions"
   ],
   "metadata": {
    "collapsed": false,
    "pycharm": {
     "name": "#%% md\n"
    }
   }
  },
  {
   "cell_type": "code",
   "execution_count": null,
   "outputs": [],
   "source": [
    "fig = px.histogram(formatted_clusters, x='time_of_day', template='plotly')\n",
    "fig.write_json(f'{data_exploration_dir}/time_of_day_hist.json')\n",
    "fig.write_html(f'{data_exploration_dir}/time_of_day_hist.html')\n",
    "fig.show()"
   ],
   "metadata": {
    "collapsed": false,
    "pycharm": {
     "name": "#%%\n",
     "is_executing": true
    }
   }
  },
  {
   "cell_type": "code",
   "execution_count": null,
   "outputs": [],
   "source": [
    "fig = px.histogram(formatted_clusters, x='weekday', template='plotly')\n",
    "fig.write_json(f'{data_exploration_dir}/weekday_hist.json')\n",
    "fig.write_json(f'{data_exploration_dir}/weekday_hist.html')\n",
    "fig.show()"
   ],
   "metadata": {
    "collapsed": false,
    "pycharm": {
     "name": "#%%\n",
     "is_executing": true
    }
   }
  },
  {
   "cell_type": "code",
   "execution_count": null,
   "outputs": [],
   "source": [
    "formatted_clusters['grouped'] = formatted_clusters.apply(lambda x: str((x['weekday'], x['time_of_day'])), axis=1)\n",
    "\n",
    "fig = px.histogram(formatted_clusters, x='grouped', template='plotly')\n",
    "fig.update_xaxes(categoryorder='category ascending')\n",
    "fig.write_json(f'{data_exploration_dir}/grouped_hist.json')\n",
    "fig.write_html(f'{data_exploration_dir}/grouped_hist.html')\n",
    "fig.show()"
   ],
   "metadata": {
    "collapsed": false,
    "pycharm": {
     "name": "#%%\n",
     "is_executing": true
    }
   }
  },
  {
   "cell_type": "code",
   "execution_count": 26,
   "outputs": [],
   "source": [
    "groups = formatted_clusters.groupby('grouped')\n",
    "\n",
    "grouped_xs = []\n",
    "grouped_ys = []\n",
    "tod_xs = []\n",
    "tod_ys = []\n",
    "dow_xs = []\n",
    "dow_ys = []\n",
    "\n",
    "for label, group in groups:\n",
    "    grouped_xs.append(label)\n",
    "    grouped_ys.append(group['size'].mean())\n",
    "\n",
    "groups = formatted_clusters.groupby('time_of_day')\n",
    "\n",
    "for label, group in groups:\n",
    "    tod_xs.append(label)\n",
    "    tod_ys.append(group['size'].mean())\n",
    "\n",
    "groups = formatted_clusters.groupby('weekday')\n",
    "\n",
    "for label, group in groups:\n",
    "    dow_xs.append(label)\n",
    "    dow_ys.append(group['size'].mean())"
   ],
   "metadata": {
    "collapsed": false,
    "pycharm": {
     "name": "#%%\n"
    }
   }
  },
  {
   "cell_type": "code",
   "execution_count": null,
   "outputs": [],
   "source": [
    "size_df = pd.DataFrame({'label': grouped_xs, 'size': grouped_ys})\n",
    "fig = px.bar(size_df, x='label', y='size')\n",
    "fig.update_layout(\n",
    "    template='plotly',\n",
    "    xaxis_title=\"Group - (dow, tod)\",\n",
    "    yaxis_title=\"Avg. Size\",\n",
    ")\n",
    "fig.write_json(f'{data_exploration_dir}/size_hist.json')\n",
    "fig.write_html(f'{data_exploration_dir}/size_hist.html')\n",
    "fig.show()"
   ],
   "metadata": {
    "collapsed": false,
    "pycharm": {
     "name": "#%%\n",
     "is_executing": true
    }
   }
  },
  {
   "cell_type": "code",
   "execution_count": null,
   "outputs": [],
   "source": [
    "size_df = pd.DataFrame({'label': tod_xs, 'size': tod_ys})\n",
    "fig = px.bar(size_df, x='label', y='size')\n",
    "fig.update_layout(\n",
    "    template='plotly',\n",
    "    xaxis_title=\"Time of Day\",\n",
    "    yaxis_title=\"Avg. Size\",\n",
    ")\n",
    "fig.write_json(f'{data_exploration_dir}/tod_size_hist.json')\n",
    "fig.write_html(f'{data_exploration_dir}/tod_size_hist.html')\n",
    "fig.show()"
   ],
   "metadata": {
    "collapsed": false,
    "pycharm": {
     "name": "#%%\n",
     "is_executing": true
    }
   }
  },
  {
   "cell_type": "code",
   "execution_count": null,
   "outputs": [],
   "source": [
    "size_df = pd.DataFrame({'label': dow_xs, 'size': dow_ys})\n",
    "fig = px.bar(size_df, x='label', y='size')\n",
    "fig.update_layout(\n",
    "    template='plotly',\n",
    "    xaxis_title=\"Day of the Week\",\n",
    "    yaxis_title=\"Avg. Size\",\n",
    ")\n",
    "fig.write_json(f'{data_exploration_dir}/dow_size_hist.json')\n",
    "fig.write_html(f'{data_exploration_dir}/dow_size_hist.html')\n",
    "fig.show()"
   ],
   "metadata": {
    "collapsed": false,
    "pycharm": {
     "name": "#%%\n",
     "is_executing": true
    }
   }
  },
  {
   "cell_type": "markdown",
   "source": [
    "## 2-Way Anova Test"
   ],
   "metadata": {
    "collapsed": false,
    "pycharm": {
     "name": "#%% md\n"
    }
   }
  },
  {
   "cell_type": "code",
   "execution_count": null,
   "outputs": [],
   "source": [
    "model = ols('size ~ C(weekday) + C(time_of_day) + C(weekday):C(time_of_day)', data=formatted_clusters).fit()\n",
    "print(model.summary())\n",
    "\n",
    "anova = sm.stats.anova_lm(model, typ=2)\n",
    "anova.to_pickle(f'{figures_dir}/visualisation/anova.pickle')\n",
    "anova.head()"
   ],
   "metadata": {
    "collapsed": false,
    "pycharm": {
     "name": "#%%\n",
     "is_executing": true
    }
   }
  },
  {
   "cell_type": "markdown",
   "source": [
    "## Build training, validation and testing datasets\n",
    "\n",
    "Split is 70% training, 20% validation and 10% testing"
   ],
   "metadata": {
    "collapsed": false,
    "pycharm": {
     "name": "#%% md\n"
    }
   }
  },
  {
   "cell_type": "code",
   "execution_count": null,
   "outputs": [],
   "source": [
    "trdf, tvdf = split_dataset(formatted_clusters, split=0.7)\n",
    "tvdf, tedf = split_dataset(tvdf, split=0.6666666)\n",
    "\n",
    "print(f'Training Size: {len(trdf)} - {(len(trdf) / len(formatted_clusters)) * 100: .2f}%')\n",
    "print(f'Validation Size: {len(tvdf)} - {(len(tvdf) / len(formatted_clusters)) * 100: .2f}%')\n",
    "print(f'Testing Size: {len(tedf)} - {(len(tedf) / len(formatted_clusters)) * 100: .2f}%')"
   ],
   "metadata": {
    "collapsed": false,
    "pycharm": {
     "name": "#%%\n",
     "is_executing": true
    }
   }
  },
  {
   "cell_type": "markdown",
   "source": [
    "## Linear Regression Model"
   ],
   "metadata": {
    "collapsed": false,
    "pycharm": {
     "name": "#%% md\n"
    }
   }
  },
  {
   "cell_type": "markdown",
   "source": [
    "### Generate baselines"
   ],
   "metadata": {
    "collapsed": false,
    "pycharm": {
     "name": "#%% md\n"
    }
   }
  },
  {
   "cell_type": "code",
   "execution_count": null,
   "outputs": [],
   "source": [
    "vs = {label: group['size'].mean() for label, group in trdf.groupby(['weekday', 'time_of_day'])}\n",
    "\n",
    "tvdf['prediction'] = tvdf.apply(lambda x: vs.get((x['weekday'], x['time_of_day']), 0), axis=1)\n",
    "tedf['prediction'] = tedf.apply(lambda x: vs.get((x['weekday'], x['time_of_day']), 0), axis=1)\n",
    "display(tvdf.head())\n",
    "\n",
    "mse_val = np.mean((np.array(tvdf['size'].tolist()) - np.array(tvdf['prediction'].tolist())) ** 2)\n",
    "mse_test = np.mean((np.array(tedf['size'].tolist()) - np.array(tedf['prediction'].tolist())) ** 2)\n",
    "\n",
    "print(mse_val)\n",
    "print(mse_test)"
   ],
   "metadata": {
    "collapsed": false,
    "pycharm": {
     "name": "#%%\n",
     "is_executing": true
    }
   }
  },
  {
   "cell_type": "markdown",
   "source": [
    "### Test weekday variable"
   ],
   "metadata": {
    "collapsed": false,
    "pycharm": {
     "name": "#%% md\n"
    }
   }
  },
  {
   "cell_type": "code",
   "execution_count": null,
   "outputs": [],
   "source": [
    "averages = {label * 6: group['size'].mean() for label, group in trdf.groupby(['weekday'])}\n",
    "model = LRModel(trdf, tvdf, tedf, averages, cols=['weekday'], label=cluster_type)\n",
    "\n",
    "model.train()\n",
    "model.eval()\n",
    "model.test()"
   ],
   "metadata": {
    "collapsed": false,
    "pycharm": {
     "name": "#%%\n",
     "is_executing": true
    }
   }
  },
  {
   "cell_type": "markdown",
   "source": [
    "### Test time of day variable"
   ],
   "metadata": {
    "collapsed": false,
    "pycharm": {
     "name": "#%% md\n"
    }
   }
  },
  {
   "cell_type": "code",
   "execution_count": null,
   "outputs": [],
   "source": [
    "averages = {label * 23: group['size'].mean() for label, group in trdf.groupby(['time_of_day'])}\n",
    "model = LRModel(trdf, tvdf, tedf, averages, cols=['time_of_day'], label=cluster_type)\n",
    "\n",
    "model.train()\n",
    "model.eval()\n",
    "model.test()"
   ],
   "metadata": {
    "collapsed": false,
    "pycharm": {
     "name": "#%%\n",
     "is_executing": true
    }
   }
  },
  {
   "cell_type": "markdown",
   "source": [
    "### Test both variables"
   ],
   "metadata": {
    "collapsed": false,
    "pycharm": {
     "name": "#%% md\n"
    }
   }
  },
  {
   "cell_type": "code",
   "execution_count": null,
   "outputs": [],
   "source": [
    "averages = {label: group['size'].mean() for label, group in trdf.groupby(['weekday', 'time_of_day'])}\n",
    "model = LRModel(trdf, tvdf, tedf, averages, cols=['weekday', 'time_of_day'], label=cluster_type)\n",
    "\n",
    "model.train()\n",
    "model.eval()\n",
    "model.test()"
   ],
   "metadata": {
    "collapsed": false,
    "pycharm": {
     "name": "#%%\n",
     "is_executing": true
    }
   }
  },
  {
   "cell_type": "markdown",
   "source": [
    "## Neural Network"
   ],
   "metadata": {
    "collapsed": false,
    "pycharm": {
     "name": "#%% md\n"
    }
   }
  },
  {
   "cell_type": "markdown",
   "source": [
    "### Set hyperparameters"
   ],
   "metadata": {
    "collapsed": false,
    "pycharm": {
     "name": "#%% md\n"
    }
   }
  },
  {
   "cell_type": "code",
   "execution_count": 47,
   "outputs": [],
   "source": [
    "epochs = 20\n",
    "batch_size = 64\n",
    "learning_rate = 0.001"
   ],
   "metadata": {
    "collapsed": false,
    "pycharm": {
     "name": "#%%\n"
    }
   }
  },
  {
   "cell_type": "markdown",
   "source": [
    "### Build and train model"
   ],
   "metadata": {
    "collapsed": false,
    "pycharm": {
     "name": "#%% md\n"
    }
   }
  },
  {
   "cell_type": "code",
   "execution_count": null,
   "outputs": [],
   "source": [
    "nn_model = NNModel(trdf[['size', 'weekday', 'time_of_day']].copy(), batch_size=batch_size, epochs=epochs, learning_rate=learning_rate, device=DEVICE)\n",
    "nn_model.train()"
   ],
   "metadata": {
    "collapsed": false,
    "pycharm": {
     "name": "#%%\n",
     "is_executing": true
    }
   }
  },
  {
   "cell_type": "markdown",
   "source": [
    "### Validate model"
   ],
   "metadata": {
    "collapsed": false,
    "pycharm": {
     "name": "#%% md\n"
    }
   }
  },
  {
   "cell_type": "code",
   "execution_count": null,
   "outputs": [],
   "source": [
    "vs_prime = nn_model.validate(tvdf)"
   ],
   "metadata": {
    "collapsed": false,
    "pycharm": {
     "name": "#%%\n",
     "is_executing": true
    }
   }
  },
  {
   "cell_type": "markdown",
   "source": [
    "### Test model"
   ],
   "metadata": {
    "collapsed": false,
    "pycharm": {
     "name": "#%% md\n"
    }
   }
  },
  {
   "cell_type": "code",
   "execution_count": null,
   "outputs": [],
   "source": [
    "nn_model.test(tedf)"
   ],
   "metadata": {
    "collapsed": false,
    "pycharm": {
     "name": "#%%\n",
     "is_executing": true
    }
   }
  },
  {
   "cell_type": "markdown",
   "source": [
    "## ARIMA Model"
   ],
   "metadata": {
    "collapsed": false,
    "pycharm": {
     "name": "#%% md\n"
    }
   }
  },
  {
   "cell_type": "markdown",
   "source": [
    "### Format and visualise dataset for use by ARIMA model"
   ],
   "metadata": {
    "collapsed": false,
    "pycharm": {
     "name": "#%% md\n"
    }
   }
  },
  {
   "cell_type": "code",
   "execution_count": null,
   "outputs": [],
   "source": [
    "arima_df = formatted_clusters.sort_values(by='local_time')\n",
    "arima_df['local_time'] = arima_df['local_time'].apply(lambda x: x[:-6])\n",
    "arima_df.set_index('local_time', drop=False, inplace=True)\n",
    "arima_df.head()"
   ],
   "metadata": {
    "collapsed": false,
    "pycharm": {
     "name": "#%%\n",
     "is_executing": true
    }
   }
  },
  {
   "cell_type": "code",
   "execution_count": null,
   "outputs": [],
   "source": [
    "fig = px.scatter(formatted_clusters, x='local_time', y='size', template='plotly')\n",
    "fig.write_json(f'{arima_dir}/arima_size_local_time_graph.json')\n",
    "fig.write_html(f'{arima_dir}/arima_size_local_time_graph.html')\n",
    "fig.show()"
   ],
   "metadata": {
    "collapsed": false,
    "pycharm": {
     "name": "#%%\n",
     "is_executing": true
    }
   }
  },
  {
   "cell_type": "markdown",
   "source": [
    "### Create ARIMA model for all data"
   ],
   "metadata": {
    "collapsed": false,
    "pycharm": {
     "name": "#%% md\n"
    }
   }
  },
  {
   "cell_type": "code",
   "execution_count": null,
   "outputs": [],
   "source": [
    "split_point = math.floor(len(arima_df) * 0.8)\n",
    "training = arima_df.head(split_point).copy()\n",
    "validation = arima_df.tail(len(arima_df) - split_point).copy()\n",
    "\n",
    "arima_model = ArimaModel(data=training)"
   ],
   "metadata": {
    "collapsed": false,
    "pycharm": {
     "name": "#%%\n",
     "is_executing": true
    }
   }
  },
  {
   "cell_type": "markdown",
   "source": [
    "### Tune model"
   ],
   "metadata": {
    "collapsed": false,
    "pycharm": {
     "name": "#%% md\n"
    }
   }
  },
  {
   "cell_type": "code",
   "execution_count": null,
   "outputs": [],
   "source": [
    "arima_model.tune(training, validation, ds=[], ps=[0, 1, 2, 3], qs=[0, 1, 2, 3, 4], cluster_type=cluster_type, do_grid_search=False)"
   ],
   "metadata": {
    "collapsed": false,
    "pycharm": {
     "name": "#%%\n",
     "is_executing": true
    }
   }
  },
  {
   "cell_type": "markdown",
   "source": [
    "### Run model"
   ],
   "metadata": {
    "collapsed": false,
    "pycharm": {
     "name": "#%% md\n"
    }
   }
  },
  {
   "cell_type": "code",
   "execution_count": null,
   "outputs": [],
   "source": [
    "arima_model.run(training, validation, filename=f'arima_all_1_0_4')"
   ],
   "metadata": {
    "collapsed": false,
    "pycharm": {
     "name": "#%%\n",
     "is_executing": true
    }
   }
  },
  {
   "cell_type": "markdown",
   "source": [
    "### Experiment on London-only data\n",
    "\n",
    "London Bounding Box --- [-0.489, 51.28, 0.236, 51.686]"
   ],
   "metadata": {
    "collapsed": false,
    "pycharm": {
     "name": "#%% md\n"
    }
   }
  },
  {
   "cell_type": "code",
   "execution_count": null,
   "outputs": [],
   "source": [
    "data = arima_df[(arima_df.x < 51.686) & (arima_df.x > 51.28) & (arima_df.y < 0.236) & (arima_df.y > -0.489)].copy()\n",
    "split_point = math.floor(len(data) * 0.8)\n",
    "training = data.head(split_point).copy()\n",
    "validation = data.tail(len(data) - split_point).copy()\n",
    "\n",
    "arima_model = ArimaModel(data=training)"
   ],
   "metadata": {
    "collapsed": false,
    "pycharm": {
     "name": "#%%\n",
     "is_executing": true
    }
   }
  },
  {
   "cell_type": "code",
   "execution_count": null,
   "outputs": [],
   "source": [
    "arima_model.run(training, validation, filename=f'arima_london_1_0_4')"
   ],
   "metadata": {
    "collapsed": false,
    "pycharm": {
     "name": "#%%\n",
     "is_executing": true
    }
   }
  }
 ],
 "metadata": {
  "kernelspec": {
   "display_name": "Python 3",
   "language": "python",
   "name": "python3"
  },
  "language_info": {
   "codemirror_mode": {
    "name": "ipython",
    "version": 2
   },
   "file_extension": ".py",
   "mimetype": "text/x-python",
   "name": "python",
   "nbconvert_exporter": "python",
   "pygments_lexer": "ipython2",
   "version": "2.7.6"
  }
 },
 "nbformat": 4,
 "nbformat_minor": 0
}