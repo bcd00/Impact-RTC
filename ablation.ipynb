{
 "cells": [
  {
   "cell_type": "code",
   "execution_count": 1,
   "metadata": {
    "collapsed": true,
    "pycharm": {
     "name": "#%%\n"
    }
   },
   "outputs": [],
   "source": [
    "%load_ext autoreload\n",
    "%autoreload 2"
   ]
  },
  {
   "cell_type": "code",
   "execution_count": null,
   "outputs": [],
   "source": [
    "!nvidia-smi"
   ],
   "metadata": {
    "collapsed": false,
    "pycharm": {
     "name": "#%%\n",
     "is_executing": true
    }
   }
  },
  {
   "cell_type": "code",
   "execution_count": 9,
   "outputs": [],
   "source": [
    "import logging\n",
    "import itertools\n",
    "import pandas as pd\n",
    "import plotly.express as px\n",
    "import plotly.graph_objects as go\n",
    "\n",
    "from tqdm.auto import tqdm\n",
    "from utilities.classifier.nlp_model import NLPModel\n",
    "from utilities.data_processing.preprocessing import PreProcessing\n",
    "from utilities.utils import shared_dir, split_dataset, write_json, figures_dir, \\\n",
    "    hashtags_dir, get_cuda_availability, get_positive"
   ],
   "metadata": {
    "collapsed": false,
    "pycharm": {
     "name": "#%%\n"
    }
   }
  },
  {
   "cell_type": "code",
   "execution_count": 4,
   "outputs": [],
   "source": [
    "tqdm.pandas()\n",
    "pd.set_option('display.max_colwidth', None)\n",
    "\n",
    "logging.basicConfig(level=logging.CRITICAL)\n",
    "transformers_logger = logging.getLogger(\"transformers\")\n",
    "transformers_logger.setLevel(logging.CRITICAL)\n",
    "\n",
    "DEVICE = get_cuda_availability()"
   ],
   "metadata": {
    "collapsed": false,
    "pycharm": {
     "name": "#%%\n"
    }
   }
  },
  {
   "cell_type": "markdown",
   "source": [
    "### Load labelled data"
   ],
   "metadata": {
    "collapsed": false,
    "pycharm": {
     "name": "#%% md\n"
    }
   }
  },
  {
   "cell_type": "code",
   "execution_count": null,
   "outputs": [],
   "source": [
    "labelled = pd.read_pickle(f'{shared_dir}/labelled.pickle')\n",
    "labelled['label'] = labelled['label'].astype(int)\n",
    "labelled.head()"
   ],
   "metadata": {
    "collapsed": false,
    "pycharm": {
     "name": "#%%\n",
     "is_executing": true
    }
   }
  },
  {
   "cell_type": "markdown",
   "source": [
    "### Get size of each of the three sources of location data"
   ],
   "metadata": {
    "collapsed": false,
    "pycharm": {
     "name": "#%% md\n"
    }
   }
  },
  {
   "cell_type": "code",
   "execution_count": null,
   "outputs": [],
   "source": [
    "user_df = labelled[labelled.location_type == 'user']\n",
    "coordinates_df = labelled[labelled.location_type == 'coordinates']\n",
    "entity_df = labelled[labelled.location_type == 'entity']\n",
    "\n",
    "print(f'size of user dataset: {len(user_df)}')\n",
    "print(f'size of coordinates dataset: {len(coordinates_df)}')\n",
    "print(f'size of entity dataset: {len(entity_df)}')"
   ],
   "metadata": {
    "collapsed": false,
    "pycharm": {
     "name": "#%%\n",
     "is_executing": true
    }
   }
  },
  {
   "cell_type": "markdown",
   "source": [
    "### Pre-process data and split into training and validation sets"
   ],
   "metadata": {
    "collapsed": false,
    "pycharm": {
     "name": "#%% md\n"
    }
   }
  },
  {
   "cell_type": "code",
   "execution_count": null,
   "outputs": [],
   "source": [
    "preprocessing = PreProcessing(labelled, word_source=f'{hashtags_dir}/50_000_words.txt')\n",
    "preprocessing.strip_newlines()\\\n",
    "    .contextualise_hashtags(cache_source=f'{hashtags_dir}/unigram_hashtags_50_000.json', use_frequencies=True).emojis()\n",
    "labelled = preprocessing.df\n",
    "labelled.head()"
   ],
   "metadata": {
    "collapsed": false,
    "pycharm": {
     "name": "#%%\n",
     "is_executing": true
    }
   }
  },
  {
   "cell_type": "code",
   "execution_count": null,
   "outputs": [],
   "source": [
    "trdf, tvdf = split_dataset(labelled)\n",
    "tvdf.head()"
   ],
   "metadata": {
    "collapsed": false,
    "pycharm": {
     "name": "#%%\n",
     "is_executing": true
    }
   }
  },
  {
   "cell_type": "code",
   "execution_count": null,
   "outputs": [],
   "source": [
    "preprocessing = PreProcessing(trdf).augment_dataset(n=2, reset_index=False)\n",
    "trdf = preprocessing.df\n",
    "trdf.sample(n=5)"
   ],
   "metadata": {
    "collapsed": false,
    "pycharm": {
     "name": "#%%\n",
     "is_executing": true
    }
   }
  },
  {
   "cell_type": "markdown",
   "source": [
    "### Load and train model"
   ],
   "metadata": {
    "collapsed": false,
    "pycharm": {
     "name": "#%% md\n"
    }
   }
  },
  {
   "cell_type": "code",
   "execution_count": 13,
   "outputs": [],
   "source": [
    "model = NLPModel(\n",
    "    training_data=trdf,\n",
    "    validation_data=tvdf,\n",
    "    device=DEVICE,\n",
    "    use_downsampling=True,\n",
    "    batch_size=32,\n",
    "    gradient_accumulation_steps=1,\n",
    "    epochs=2,\n",
    "    scheduler_type='linear',\n",
    "    model_name='roberta-base'\n",
    ")"
   ],
   "metadata": {
    "collapsed": false,
    "pycharm": {
     "name": "#%%\n"
    }
   }
  },
  {
   "cell_type": "code",
   "execution_count": null,
   "outputs": [],
   "source": [
    "model.train(log_level='critical')"
   ],
   "metadata": {
    "collapsed": false,
    "pycharm": {
     "name": "#%%\n",
     "is_executing": true
    }
   }
  },
  {
   "cell_type": "markdown",
   "source": [
    "### Generate baseline performance"
   ],
   "metadata": {
    "collapsed": false,
    "pycharm": {
     "name": "#%% md\n"
    }
   }
  },
  {
   "cell_type": "code",
   "execution_count": null,
   "outputs": [],
   "source": [
    "model.test(tvdf, predictions_filename=None, to_display=False)\n",
    "reports = [model.report for _ in range(3)]\n",
    "baseline_report = pd.DataFrame([{'accuracy': report['accuracy'], 'negative_f1': report['negative']['f1-score'], 'positive_f1': report['positive']['f1-score']} for report in reports])\n",
    "baseline_report.head()"
   ],
   "metadata": {
    "collapsed": false,
    "pycharm": {
     "name": "#%%\n",
     "is_executing": true
    }
   }
  },
  {
   "cell_type": "markdown",
   "source": [
    "### Ablate location data source, save and display results"
   ],
   "metadata": {
    "collapsed": false,
    "pycharm": {
     "name": "#%% md\n"
    }
   }
  },
  {
   "cell_type": "code",
   "execution_count": null,
   "outputs": [],
   "source": [
    "options = ['user', 'entity', 'coordinates']\n",
    "ys = list(itertools.combinations(options, 2))\n",
    "reports = []\n",
    "\n",
    "for y in ys:\n",
    "    x = [x for x in options if x not in y][0]\n",
    "    print(f'Ablating {x}')\n",
    "\n",
    "    model.test(tvdf[tvdf.location_type.isin(y)], predictions_filename=None, cfm_filename=f'{figures_dir}/ablation/ablating_{x}_cfm.png')\n",
    "\n",
    "    reports.append((x, model.report))\n",
    "    write_json(model.report, f'{figures_dir}/ablation/ablating_{x}_report.json')"
   ],
   "metadata": {
    "collapsed": false,
    "pycharm": {
     "name": "#%%\n",
     "is_executing": true
    }
   }
  },
  {
   "cell_type": "markdown",
   "source": [
    "### Generate ablation graph"
   ],
   "metadata": {
    "collapsed": false,
    "pycharm": {
     "name": "#%% md\n"
    }
   }
  },
  {
   "cell_type": "code",
   "execution_count": null,
   "outputs": [],
   "source": [
    "data = pd.DataFrame([{'key': x[0], 'accuracy': x[1]['accuracy'], 'negative_f1': x[1]['negative']['f1-score'],\n",
    "                      'positive_f1': x[1]['positive']['f1-score']} for x in reports])\n",
    "fig = px.line(data, x='key', y=['accuracy', 'negative_f1', 'positive_f1'], template='plotly')\n",
    "fig.add_trace(go.Scatter(x=options, y=baseline_report['accuracy'].tolist(), name='accuracy_baseline',\n",
    "                         line={'color': 'blue', 'dash': 'dash'}))\n",
    "fig.add_trace(go.Scatter(x=options, y=baseline_report['negative_f1'].tolist(), name='negative_f1_baseline',\n",
    "                         line={'color': 'red', 'dash': 'dash'}))\n",
    "fig.add_trace(go.Scatter(x=options, y=baseline_report['positive_f1'].tolist(), name='positive_f1_baseline',\n",
    "                         line={'color': 'green', 'dash': 'dash'}))\n",
    "fig.update_layout(\n",
    "    xaxis_title='location type ablated',\n",
    "    yaxis_title='performance',\n",
    "    template='plotly',\n",
    "    font={'family': 'verdana', 'size': 26, 'color': 'black'}\n",
    ")\n",
    "fig.write_json(f'{figures_dir}/ablation/ablation_graph.json')\n",
    "fig.write_html(f'{figures_dir}/ablation/ablation_graph.html')\n",
    "fig.show()"
   ],
   "metadata": {
    "collapsed": false,
    "pycharm": {
     "name": "#%%\n",
     "is_executing": true
    }
   }
  },
  {
   "cell_type": "markdown",
   "source": [
    "### Generate class distribution graph for each location source"
   ],
   "metadata": {
    "collapsed": false,
    "pycharm": {
     "name": "#%% md\n"
    }
   }
  },
  {
   "cell_type": "code",
   "execution_count": 22,
   "outputs": [],
   "source": [
    "labelled_positive = get_positive(labelled)\n",
    "\n",
    "user_negative = len(user_df[user_df.label == 0])\n",
    "user_positive = len(user_df[user_df.label == 1])\n",
    "\n",
    "coordinates_negative = len(coordinates_df[coordinates_df.label == 0])\n",
    "coordinates_positive = len(coordinates_df[coordinates_df.label == 1])\n",
    "\n",
    "entity_negative = len(entity_df[entity_df.label == 0])\n",
    "entity_positive = len(entity_df[entity_df.label == 1])"
   ],
   "metadata": {
    "collapsed": false,
    "pycharm": {
     "name": "#%%\n"
    }
   }
  },
  {
   "cell_type": "code",
   "execution_count": 23,
   "outputs": [],
   "source": [
    "df = pd.DataFrame([\n",
    "    {\n",
    "        'key': 'user',\n",
    "        'positive': user_positive,\n",
    "        'negative': user_negative\n",
    "    },\n",
    "    {\n",
    "        'key': 'entity',\n",
    "        'positive': entity_positive,\n",
    "        'negative': entity_negative\n",
    "    },\n",
    "    {\n",
    "        'key': 'coordinates',\n",
    "        'positive': coordinates_positive,\n",
    "        'negative': coordinates_negative\n",
    "    }\n",
    "])"
   ],
   "metadata": {
    "collapsed": false,
    "pycharm": {
     "name": "#%%\n"
    }
   }
  },
  {
   "cell_type": "code",
   "execution_count": null,
   "outputs": [],
   "source": [
    "fig = px.bar(df, x='key', y=['positive', 'negative'], template='plotly')\n",
    "\n",
    "fig.update_layout(template='plotly', xaxis_title='location source', yaxis_title='size', font={'family': 'verdana', 'size': 26, 'color': 'black'})\n",
    "\n",
    "fig.write_json(f'{figures_dir}/ablation/location_distribution_graph.json')\n",
    "fig.write_html(f'{figures_dir}/ablation/location_distribution_graph.html')\n",
    "\n",
    "fig.show()"
   ],
   "metadata": {
    "collapsed": false,
    "pycharm": {
     "name": "#%%\n",
     "is_executing": true
    }
   }
  }
 ],
 "metadata": {
  "kernelspec": {
   "display_name": "Python 3",
   "language": "python",
   "name": "python3"
  },
  "language_info": {
   "codemirror_mode": {
    "name": "ipython",
    "version": 2
   },
   "file_extension": ".py",
   "mimetype": "text/x-python",
   "name": "python",
   "nbconvert_exporter": "python",
   "pygments_lexer": "ipython2",
   "version": "2.7.6"
  }
 },
 "nbformat": 4,
 "nbformat_minor": 0
}