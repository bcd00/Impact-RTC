{
 "cells": [
  {
   "cell_type": "code",
   "execution_count": null,
   "outputs": [],
   "source": [
    "%load_ext autoreload\n",
    "%autoreload 2"
   ],
   "metadata": {
    "collapsed": false,
    "pycharm": {
     "name": "#%%\n",
     "is_executing": true
    }
   }
  },
  {
   "cell_type": "code",
   "execution_count": 19,
   "outputs": [],
   "source": [
    "import numpy as np\n",
    "import spacy\n",
    "import logging\n",
    "import pandas as pd\n",
    "import en_core_web_sm\n",
    "import plotly.express as px\n",
    "\n",
    "from tqdm.auto import tqdm\n",
    "from IPython.display import display\n",
    "from transformers import AutoTokenizer\n",
    "from utilities.data_processing.processing_utils import generate_word_cloud, get_labelled, get_agreement\n",
    "from utilities.utils import load_annotations, input_dir, figures_dir, shared_dir, get_positive, display_image, \\\n",
    "    get_negative, \\\n",
    "    calculate_dataset_similarity, select_annotation, plot_confusion_matrix, kappa, annotations_dir, word_clouds_dir"
   ],
   "metadata": {
    "collapsed": false,
    "pycharm": {
     "name": "#%%\n"
    }
   }
  },
  {
   "cell_type": "code",
   "execution_count": 20,
   "outputs": [],
   "source": [
    "tqdm.pandas()\n",
    "spacy.prefer_gpu()\n",
    "sp = en_core_web_sm.load()\n",
    "logging.basicConfig(level=logging.INFO)\n",
    "pd.set_option('display.max_colwidth', None)"
   ],
   "metadata": {
    "collapsed": false,
    "pycharm": {
     "name": "#%%\n"
    }
   }
  },
  {
   "cell_type": "markdown",
   "source": [
    "### Load annotations"
   ],
   "metadata": {
    "collapsed": false,
    "pycharm": {
     "name": "#%% md\n"
    }
   }
  },
  {
   "cell_type": "code",
   "execution_count": null,
   "outputs": [],
   "source": [
    "annotations_one = load_annotations(filename=f'{input_dir}/geospatial_annotations_1.json')\n",
    "annotations_two = load_annotations(filename=f'{input_dir}/geospatial_annotations_2.json')\n",
    "annotations_three = load_annotations(filename=f'{input_dir}/geospatial_annotations_3.json')\n",
    "\n",
    "display(annotations_one.head())\n",
    "display(annotations_two.head())\n",
    "display(annotations_three.head())\n",
    "\n",
    "annotations_df = annotations_one.merge(annotations_two, how='inner', left_index=True, right_index=True, suffixes=('_one', '_two'))\n",
    "annotations_df = annotations_df.merge(annotations_three, how='inner', left_index=True, right_index=True, suffixes=('', '_three'))\n",
    "\n",
    "annotations_df.drop(['text_two', 'text'], axis=1, inplace=True)\n",
    "annotations_df.rename(columns={'text_one': 'text', 'label': 'label_three'}, inplace=True)\n",
    "\n",
    "annotations_df.head()"
   ],
   "metadata": {
    "collapsed": false,
    "pycharm": {
     "name": "#%%\n",
     "is_executing": true
    }
   }
  },
  {
   "cell_type": "markdown",
   "source": [
    "### Calculate annotator agreement"
   ],
   "metadata": {
    "collapsed": false,
    "pycharm": {
     "name": "#%% md\n"
    }
   }
  },
  {
   "cell_type": "code",
   "execution_count": 22,
   "outputs": [],
   "source": [
    "validation_agreement = {'pp': [], 'nn': [], 'pn': [], 'np': []}"
   ],
   "metadata": {
    "collapsed": false,
    "pycharm": {
     "name": "#%%\n"
    }
   }
  },
  {
   "cell_type": "code",
   "execution_count": null,
   "outputs": [],
   "source": [
    "cross_pp = len(annotations_df[(annotations_df.label_one == 1) & (annotations_df.label_two == 1)])\n",
    "cross_nn = len(annotations_df[(annotations_df.label_one == 0) & (annotations_df.label_two == 0)])\n",
    "cross_pn = len(annotations_df[(annotations_df.label_one == 1) & (annotations_df.label_two == 0)])\n",
    "cross_np = len(annotations_df[(annotations_df.label_one == 0) & (annotations_df.label_two == 1)])\n",
    "plot_confusion_matrix(np.asarray([cross_nn, cross_pn, cross_np, cross_pp]).reshape((2, 2)),\n",
    "                      filename=f'{annotations_dir}/annotator_agreement_validation_1_2', group_names=['TN', 'FP', 'FN', 'TP'])\n",
    "print(kappa(cross_pp, cross_nn, cross_pn, cross_np))"
   ],
   "metadata": {
    "collapsed": false,
    "pycharm": {
     "name": "#%%\n",
     "is_executing": true
    }
   }
  },
  {
   "cell_type": "code",
   "execution_count": null,
   "outputs": [],
   "source": [
    "cross_pp = len(annotations_df[(annotations_df.label_one == 1) & (annotations_df.label_three == 1)])\n",
    "cross_nn = len(annotations_df[(annotations_df.label_one == 0) & (annotations_df.label_three == 0)])\n",
    "cross_pn = len(annotations_df[(annotations_df.label_one == 1) & (annotations_df.label_three == 0)])\n",
    "cross_np = len(annotations_df[(annotations_df.label_one == 0) & (annotations_df.label_three == 1)])\n",
    "plot_confusion_matrix(np.asarray([cross_nn, cross_pn, cross_np, cross_pp]).reshape((2, 2)),\n",
    "                      filename=f'{annotations_dir}/annotator_agreement_validation_1_3', group_names=['TN', 'FP', 'FN', 'TP'])\n",
    "print(kappa(cross_pp, cross_nn, cross_pn, cross_np))"
   ],
   "metadata": {
    "collapsed": false,
    "pycharm": {
     "name": "#%%\n",
     "is_executing": true
    }
   }
  },
  {
   "cell_type": "code",
   "execution_count": null,
   "outputs": [],
   "source": [
    "cross_pp = len(annotations_df[(annotations_df.label_two == 1) & (annotations_df.label_three == 1)])\n",
    "cross_nn = len(annotations_df[(annotations_df.label_two == 0) & (annotations_df.label_three == 0)])\n",
    "cross_pn = len(annotations_df[(annotations_df.label_two == 1) & (annotations_df.label_three == 0)])\n",
    "cross_np = len(annotations_df[(annotations_df.label_two == 0) & (annotations_df.label_three == 1)])\n",
    "plot_confusion_matrix(np.asarray([cross_nn, cross_pn, cross_np, cross_pp]).reshape((2, 2)),\n",
    "                      filename=f'{annotations_dir}/annotator_agreement_validation_2_3', group_names=['TN', 'FP', 'FN', 'TP'])\n",
    "print(kappa(cross_pp, cross_nn, cross_pn, cross_np))"
   ],
   "metadata": {
    "collapsed": false,
    "pycharm": {
     "name": "#%%\n",
     "is_executing": true
    }
   }
  },
  {
   "cell_type": "code",
   "execution_count": null,
   "outputs": [],
   "source": [
    "annotations_df['label'] = annotations_df.apply(lambda x: select_annotation([x['label_one'], x['label_two'], x['label_three']]), axis=1)\n",
    "\n",
    "annotations_df.head()"
   ],
   "metadata": {
    "collapsed": false,
    "pycharm": {
     "name": "#%%\n",
     "is_executing": true
    }
   }
  },
  {
   "cell_type": "code",
   "execution_count": null,
   "outputs": [],
   "source": [
    "cross_tp = sum(get_agreement(annotations_df, y_hat=1, y=1)) / 3\n",
    "cross_tn = sum(get_agreement(annotations_df, y_hat=0, y=0)) / 3\n",
    "cross_fp = sum(get_agreement(annotations_df, y_hat=1, y=0)) / 3\n",
    "cross_fn = sum(get_agreement(annotations_df, y_hat=0, y=1)) / 3\n",
    "plot_confusion_matrix(np.asarray([cross_tn, cross_fp, cross_fn, cross_tp]).reshape((2, 2)),\n",
    "                      filename=f'{annotations_dir}/annotator_agreement_validation', group_names=['TN', 'FP', 'FN', 'TP'])\n",
    "print(kappa(cross_tp, cross_tn, cross_fp, cross_fn))"
   ],
   "metadata": {
    "collapsed": false,
    "pycharm": {
     "name": "#%%\n",
     "is_executing": true
    }
   }
  },
  {
   "cell_type": "code",
   "execution_count": 28,
   "outputs": [],
   "source": [
    "annotations_df.drop(['label_one', 'label_two', 'label_three'], axis=1, inplace=True)"
   ],
   "metadata": {
    "collapsed": false,
    "pycharm": {
     "name": "#%%\n"
    }
   }
  },
  {
   "cell_type": "markdown",
   "source": [
    "### Display the class distribution"
   ],
   "metadata": {
    "collapsed": false,
    "pycharm": {
     "name": "#%% md\n"
    }
   }
  },
  {
   "cell_type": "code",
   "execution_count": null,
   "outputs": [],
   "source": [
    "total_size = len(annotations_df)\n",
    "negative_size = len(annotations_df[annotations_df[\"label\"] == 0])\n",
    "positive_size = total_size - negative_size\n",
    "print(f'Ratio of labels: {negative_size :.0f}:{positive_size :.0f}')\n",
    "\n",
    "fig = px.histogram(annotations_df, x='label')\n",
    "\n",
    "fig.update_layout(template='plotly', font={'family': 'verdana', 'size': 26, 'color': 'black'}, xaxis_title='class')\n",
    "fig.update_xaxes(type='category')\n",
    "fig.update_yaxes(range=[0, 2200], type='linear')\n",
    "\n",
    "fig.write_html(f'{annotations_dir}/annotations.html')\n",
    "fig.write_json(f'{annotations_dir}/annotations.json')\n",
    "fig.show()"
   ],
   "metadata": {
    "collapsed": false,
    "pycharm": {
     "name": "#%%\n",
     "is_executing": true
    }
   }
  },
  {
   "cell_type": "markdown",
   "source": [
    "### Merge annotations with geospatial data"
   ],
   "metadata": {
    "collapsed": false,
    "pycharm": {
     "name": "#%% md\n"
    }
   }
  },
  {
   "cell_type": "code",
   "execution_count": null,
   "outputs": [],
   "source": [
    "geo_df = pd.read_pickle(f'{shared_dir}/geospatial.pickle')\n",
    "geo_df = geo_df[~geo_df.index.duplicated(keep='first')].copy()\n",
    "geo_df.head()"
   ],
   "metadata": {
    "collapsed": false,
    "pycharm": {
     "name": "#%%\n",
     "is_executing": true
    }
   }
  },
  {
   "cell_type": "code",
   "execution_count": null,
   "outputs": [],
   "source": [
    "geo_df = geo_df.merge(annotations_df, how='left', left_index=True, right_index=True, suffixes=(None, '_annotation'))\n",
    "geo_df.drop('text_annotation', axis=1, inplace=True)\n",
    "geo_df.head()"
   ],
   "metadata": {
    "collapsed": false,
    "pycharm": {
     "name": "#%%\n",
     "is_executing": true
    }
   }
  },
  {
   "cell_type": "markdown",
   "source": [
    "### Build word clouds for both classes"
   ],
   "metadata": {
    "collapsed": false,
    "pycharm": {
     "name": "#%% md\n"
    }
   }
  },
  {
   "cell_type": "code",
   "execution_count": null,
   "outputs": [],
   "source": [
    "word_cloud = generate_word_cloud(get_positive(geo_df).head(50), sp=sp)\n",
    "display_image(word_cloud, filename=f'{word_clouds_dir}/positive_wordcloud.png')"
   ],
   "metadata": {
    "collapsed": false,
    "pycharm": {
     "name": "#%%\n",
     "is_executing": true
    }
   }
  },
  {
   "cell_type": "code",
   "execution_count": null,
   "outputs": [],
   "source": [
    "word_cloud = generate_word_cloud(get_negative(geo_df), sp=sp)\n",
    "display_image(word_cloud, filename=f'{word_clouds_dir}/negative_wordcloud.png')"
   ],
   "metadata": {
    "collapsed": false,
    "pycharm": {
     "name": "#%%\n",
     "is_executing": true
    }
   }
  },
  {
   "cell_type": "markdown",
   "source": [
    "### Calculate Jaccard similarity between the classes' text"
   ],
   "metadata": {
    "collapsed": false,
    "pycharm": {
     "name": "#%% md\n"
    }
   }
  },
  {
   "cell_type": "code",
   "execution_count": null,
   "outputs": [],
   "source": [
    "tokenizer = AutoTokenizer.from_pretrained(f'{shared_dir}/tokenizer/')\n",
    "similarity = calculate_dataset_similarity(tokenizer, get_positive(geo_df), get_negative(geo_df))\n",
    "print(f'Jaccard Similarity between positive and negative classes: {similarity}')\n",
    "del tokenizer"
   ],
   "metadata": {
    "collapsed": false,
    "pycharm": {
     "name": "#%%\n",
     "is_executing": true
    }
   }
  },
  {
   "cell_type": "markdown",
   "source": [
    "### Save labelled geospatial data to file"
   ],
   "metadata": {
    "collapsed": false,
    "pycharm": {
     "name": "#%% md\n"
    }
   }
  },
  {
   "cell_type": "code",
   "execution_count": null,
   "outputs": [],
   "source": [
    "labelled = get_labelled(geo_df)\n",
    "print(f'Size of Labelled Dataset: {len(labelled)}')"
   ],
   "metadata": {
    "collapsed": false,
    "pycharm": {
     "name": "#%%\n",
     "is_executing": true
    }
   }
  },
  {
   "cell_type": "code",
   "execution_count": null,
   "outputs": [],
   "source": [
    "print('Saving Labelled Dataset')\n",
    "labelled.to_pickle(f'{shared_dir}/labelled.pickle')"
   ],
   "metadata": {
    "collapsed": false,
    "pycharm": {
     "name": "#%%\n",
     "is_executing": true
    }
   }
  }
 ],
 "metadata": {
  "kernelspec": {
   "display_name": "Python 3",
   "language": "python",
   "name": "python3"
  },
  "language_info": {
   "codemirror_mode": {
    "name": "ipython",
    "version": 2
   },
   "file_extension": ".py",
   "mimetype": "text/x-python",
   "name": "python",
   "nbconvert_exporter": "python",
   "pygments_lexer": "ipython2",
   "version": "2.7.6"
  }
 },
 "nbformat": 4,
 "nbformat_minor": 0
}